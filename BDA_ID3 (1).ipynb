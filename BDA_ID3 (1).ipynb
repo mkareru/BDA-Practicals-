{
  "nbformat": 4,
  "nbformat_minor": 0,
  "metadata": {
    "colab": {
      "name": "BDA ID3.ipynb",
      "provenance": [],
      "collapsed_sections": []
    },
    "kernelspec": {
      "name": "python3",
      "display_name": "Python 3"
    },
    "language_info": {
      "name": "python"
    }
  },
  "cells": [
    {
      "cell_type": "markdown",
      "metadata": {
        "id": "S5pFeqGZXBA7"
      },
      "source": [
        "In addition to analytical methods such as clustering, association rule learning, and modeling techniques like regression, classification is another fundamental learning method that we see in applications related to data mining.\n",
        "In classification learning, a classifier is presented with a set of examples that are already classified and, from these examples, the classifier learns to assign unseen examples\n",
        "\n",
        "### *Fundamental classification methods: decision trees and nai\"ve Bayes*"
      ]
    },
    {
      "cell_type": "markdown",
      "metadata": {
        "id": "tWGJusSCVxW-"
      },
      "source": [
        "There are many Decision tree Algorithms out which are ID3, CHART, CHAID, C4.5 etc. Below is one example of ID3 algorithm using Chefboost Package"
      ]
    },
    {
      "cell_type": "markdown",
      "metadata": {
        "id": "lTJ0vcHrVvcs"
      },
      "source": [
        "**Chefboost** is a lightweight decision tree framework for Python with categorical feature support. It covers regular decision tree algorithms: ID3, C4. 5, CART, CHAID and regression tree; also some advanved techniques: gradient boosting, random forest and adaboost."
      ]
    },
    {
      "cell_type": "code",
      "metadata": {
        "id": "CUzgKToMBMVX",
        "colab": {
          "base_uri": "https://localhost:8080/"
        },
        "outputId": "19e3d2c2-f4b6-400a-ccba-7c71d5d97708"
      },
      "source": [
        "pip install chefboost"
      ],
      "execution_count": 21,
      "outputs": [
        {
          "output_type": "stream",
          "text": [
            "Requirement already satisfied: chefboost in /usr/local/lib/python3.7/dist-packages (0.0.13)\n",
            "Requirement already satisfied: tqdm>=4.30.0 in /usr/local/lib/python3.7/dist-packages (from chefboost) (4.41.1)\n",
            "Requirement already satisfied: psutil>=5.4.3 in /usr/local/lib/python3.7/dist-packages (from chefboost) (5.4.8)\n",
            "Requirement already satisfied: pandas>=0.22.0 in /usr/local/lib/python3.7/dist-packages (from chefboost) (1.1.5)\n",
            "Requirement already satisfied: numpy>=1.14.0 in /usr/local/lib/python3.7/dist-packages (from chefboost) (1.19.5)\n",
            "Requirement already satisfied: pytz>=2017.2 in /usr/local/lib/python3.7/dist-packages (from pandas>=0.22.0->chefboost) (2018.9)\n",
            "Requirement already satisfied: python-dateutil>=2.7.3 in /usr/local/lib/python3.7/dist-packages (from pandas>=0.22.0->chefboost) (2.8.1)\n",
            "Requirement already satisfied: six>=1.5 in /usr/local/lib/python3.7/dist-packages (from python-dateutil>=2.7.3->pandas>=0.22.0->chefboost) (1.15.0)\n"
          ],
          "name": "stdout"
        }
      ]
    },
    {
      "cell_type": "code",
      "metadata": {
        "id": "7OHEdFE8BZ6m"
      },
      "source": [
        "from chefboost import Chefboost as chef\n",
        "import pandas as pd"
      ],
      "execution_count": 22,
      "outputs": []
    },
    {
      "cell_type": "code",
      "metadata": {
        "id": "Gh9nA-cONRf2",
        "colab": {
          "base_uri": "https://localhost:8080/",
          "height": 236
        },
        "outputId": "f8d0d94f-9808-4bde-e828-bc3d4c70229b"
      },
      "source": [
        "%cd ..\n",
        "from google.colab import drive\n",
        "drive.mount('/content/gdrive')\n",
        "\n",
        "df = pd.read_csv('/content/gdrive/MyDrive/Manjunath/BDA/golf.txt')\n",
        "df.head()"
      ],
      "execution_count": 23,
      "outputs": [
        {
          "output_type": "stream",
          "text": [
            "/\n",
            "Drive already mounted at /content/gdrive; to attempt to forcibly remount, call drive.mount(\"/content/gdrive\", force_remount=True).\n"
          ],
          "name": "stdout"
        },
        {
          "output_type": "execute_result",
          "data": {
            "text/html": [
              "<div>\n",
              "<style scoped>\n",
              "    .dataframe tbody tr th:only-of-type {\n",
              "        vertical-align: middle;\n",
              "    }\n",
              "\n",
              "    .dataframe tbody tr th {\n",
              "        vertical-align: top;\n",
              "    }\n",
              "\n",
              "    .dataframe thead th {\n",
              "        text-align: right;\n",
              "    }\n",
              "</style>\n",
              "<table border=\"1\" class=\"dataframe\">\n",
              "  <thead>\n",
              "    <tr style=\"text-align: right;\">\n",
              "      <th></th>\n",
              "      <th>Outlook</th>\n",
              "      <th>Temp</th>\n",
              "      <th>Humidity</th>\n",
              "      <th>Windy</th>\n",
              "      <th>Play</th>\n",
              "    </tr>\n",
              "  </thead>\n",
              "  <tbody>\n",
              "    <tr>\n",
              "      <th>0</th>\n",
              "      <td>Rainy</td>\n",
              "      <td>Hot</td>\n",
              "      <td>High</td>\n",
              "      <td>False</td>\n",
              "      <td>No</td>\n",
              "    </tr>\n",
              "    <tr>\n",
              "      <th>1</th>\n",
              "      <td>Rainy</td>\n",
              "      <td>Hot</td>\n",
              "      <td>High</td>\n",
              "      <td>True</td>\n",
              "      <td>No</td>\n",
              "    </tr>\n",
              "    <tr>\n",
              "      <th>2</th>\n",
              "      <td>Overcast</td>\n",
              "      <td>Hot</td>\n",
              "      <td>High</td>\n",
              "      <td>False</td>\n",
              "      <td>Yes</td>\n",
              "    </tr>\n",
              "    <tr>\n",
              "      <th>3</th>\n",
              "      <td>Sunny</td>\n",
              "      <td>Mild</td>\n",
              "      <td>High</td>\n",
              "      <td>False</td>\n",
              "      <td>Yes</td>\n",
              "    </tr>\n",
              "    <tr>\n",
              "      <th>4</th>\n",
              "      <td>Sunny</td>\n",
              "      <td>Cool</td>\n",
              "      <td>Normal</td>\n",
              "      <td>False</td>\n",
              "      <td>Yes</td>\n",
              "    </tr>\n",
              "  </tbody>\n",
              "</table>\n",
              "</div>"
            ],
            "text/plain": [
              "    Outlook  Temp Humidity  Windy Play\n",
              "0     Rainy   Hot     High  False   No\n",
              "1     Rainy   Hot     High   True   No\n",
              "2  Overcast   Hot     High  False  Yes\n",
              "3     Sunny  Mild     High  False  Yes\n",
              "4     Sunny  Cool   Normal  False  Yes"
            ]
          },
          "metadata": {
            "tags": []
          },
          "execution_count": 23
        }
      ]
    },
    {
      "cell_type": "code",
      "metadata": {
        "id": "PMnTtzv4xyfL"
      },
      "source": [
        "config = {'algorithm': 'C4.5'}\n",
        "model = chef.fit(df, config = config)"
      ],
      "execution_count": null,
      "outputs": []
    },
    {
      "cell_type": "code",
      "metadata": {
        "id": "_HWDHET-68pX"
      },
      "source": [
        "config = {'algorithm': 'ID3'}\n",
        "model = chef.fit(df, config = config)"
      ],
      "execution_count": null,
      "outputs": []
    },
    {
      "cell_type": "markdown",
      "metadata": {
        "id": "ivxhD0j-XFox"
      },
      "source": [
        "ID3 tree is going to be built...\n",
        "\n",
        "Accuracy : 100% on 14 instances\n",
        "\n",
        "finished in 0.17246556282043457 seconds"
      ]
    },
    {
      "cell_type": "code",
      "metadata": {
        "id": "PCRLTpEdUA46"
      },
      "source": [
        "prediction = chef.predict(model, param = ['Sunny', 'Hot', 'High', 'Weak'])\n",
        "prediction"
      ],
      "execution_count": null,
      "outputs": []
    },
    {
      "cell_type": "markdown",
      "metadata": {
        "id": "kC4LcxfYXJn-"
      },
      "source": [
        "\"No\""
      ]
    },
    {
      "cell_type": "code",
      "metadata": {
        "id": "ZwClaFUfXKfJ"
      },
      "source": [
        "for index, instance in df.iterrows():\n",
        "\tprediction = chef.predict(model, instance)\n",
        "\tactual = instance['Decision']\n",
        "\tprint (prediction, \"vs\" ,actual)\n"
      ],
      "execution_count": null,
      "outputs": []
    },
    {
      "cell_type": "markdown",
      "metadata": {
        "id": "bvlviMqOXUDD"
      },
      "source": [
        "No  Vs  No\n",
        "\n",
        "No  Vs  No\n",
        "\n",
        "Yes  Vs  Yes\n",
        "\n",
        "Yes  Vs  Yes\n",
        "\n",
        "Yes  Vs  Yes\n",
        "\n",
        "No  Vs  No\n",
        "\n",
        "Yes  Vs  Yes\n",
        "\n",
        "No  Vs  No\n",
        "\n",
        "Yes  Vs  Yes\n",
        "\n",
        "Yes  Vs  Yes\n",
        "\n",
        "Yes  Vs  Yes\n",
        "\n",
        "Yes  Vs  Yes\n",
        "\n",
        "Yes  Vs  Yes\n",
        "\n",
        "No  Vs  No"
      ]
    }
  ]
}